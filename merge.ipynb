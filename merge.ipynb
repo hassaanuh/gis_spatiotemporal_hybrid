{
 "cells": [
  {
   "cell_type": "code",
   "execution_count": 1,
   "id": "057efa66",
   "metadata": {},
   "outputs": [
    {
     "name": "stdout",
     "output_type": "stream",
     "text": [
      "Collecting pandas\n",
      "  Using cached pandas-2.2.3-cp313-cp313-macosx_11_0_arm64.whl.metadata (89 kB)\n",
      "Collecting numpy>=1.26.0 (from pandas)\n",
      "  Downloading numpy-2.2.6-cp313-cp313-macosx_14_0_arm64.whl.metadata (62 kB)\n",
      "Requirement already satisfied: python-dateutil>=2.8.2 in ./data_merge/lib/python3.13/site-packages (from pandas) (2.9.0.post0)\n",
      "Collecting pytz>=2020.1 (from pandas)\n",
      "  Using cached pytz-2025.2-py2.py3-none-any.whl.metadata (22 kB)\n",
      "Collecting tzdata>=2022.7 (from pandas)\n",
      "  Using cached tzdata-2025.2-py2.py3-none-any.whl.metadata (1.4 kB)\n",
      "Requirement already satisfied: six>=1.5 in ./data_merge/lib/python3.13/site-packages (from python-dateutil>=2.8.2->pandas) (1.17.0)\n",
      "Using cached pandas-2.2.3-cp313-cp313-macosx_11_0_arm64.whl (11.3 MB)\n",
      "Downloading numpy-2.2.6-cp313-cp313-macosx_14_0_arm64.whl (5.1 MB)\n",
      "\u001b[2K   \u001b[90m━━━━━━━━━━━━━━━━━━━━━━━━━━━━━━━━━━━━━━━━\u001b[0m \u001b[32m5.1/5.1 MB\u001b[0m \u001b[31m6.0 MB/s\u001b[0m eta \u001b[36m0:00:00\u001b[0ma \u001b[36m0:00:01\u001b[0m\n",
      "\u001b[?25hUsing cached pytz-2025.2-py2.py3-none-any.whl (509 kB)\n",
      "Using cached tzdata-2025.2-py2.py3-none-any.whl (347 kB)\n",
      "Installing collected packages: pytz, tzdata, numpy, pandas\n",
      "Successfully installed numpy-2.2.6 pandas-2.2.3 pytz-2025.2 tzdata-2025.2\n",
      "\n",
      "\u001b[1m[\u001b[0m\u001b[34;49mnotice\u001b[0m\u001b[1;39;49m]\u001b[0m\u001b[39;49m A new release of pip is available: \u001b[0m\u001b[31;49m25.0\u001b[0m\u001b[39;49m -> \u001b[0m\u001b[32;49m25.1.1\u001b[0m\n",
      "\u001b[1m[\u001b[0m\u001b[34;49mnotice\u001b[0m\u001b[1;39;49m]\u001b[0m\u001b[39;49m To update, run: \u001b[0m\u001b[32;49mpip install --upgrade pip\u001b[0m\n"
     ]
    }
   ],
   "source": [
    "!pip install pandas\n"
   ]
  },
  {
   "cell_type": "code",
   "execution_count": null,
   "id": "2915f6c1",
   "metadata": {},
   "outputs": [],
   "source": []
  },
  {
   "cell_type": "code",
   "execution_count": null,
   "id": "f2d5615d",
   "metadata": {},
   "outputs": [],
   "source": []
  },
  {
   "cell_type": "code",
   "execution_count": 2,
   "id": "7540bec0",
   "metadata": {},
   "outputs": [
    {
     "name": "stdout",
     "output_type": "stream",
     "text": [
      "Requirement already satisfied: pip in ./data_merge/lib/python3.13/site-packages (25.0)\n",
      "Collecting pip\n",
      "  Downloading pip-25.1.1-py3-none-any.whl.metadata (3.6 kB)\n",
      "Downloading pip-25.1.1-py3-none-any.whl (1.8 MB)\n",
      "\u001b[2K   \u001b[90m━━━━━━━━━━━━━━━━━━━━━━━━━━━━━━━━━━━━━━━━\u001b[0m \u001b[32m1.8/1.8 MB\u001b[0m \u001b[31m4.7 MB/s\u001b[0m eta \u001b[36m0:00:00\u001b[0ma \u001b[36m0:00:01\u001b[0m\n",
      "\u001b[?25hInstalling collected packages: pip\n",
      "  Attempting uninstall: pip\n",
      "    Found existing installation: pip 25.0\n",
      "    Uninstalling pip-25.0:\n",
      "      Successfully uninstalled pip-25.0\n",
      "Successfully installed pip-25.1.1\n"
     ]
    }
   ],
   "source": [
    "!pip install --upgrade pip"
   ]
  },
  {
   "cell_type": "code",
   "execution_count": 1,
   "id": "e6a230f6",
   "metadata": {},
   "outputs": [
    {
     "name": "stdout",
     "output_type": "stream",
     "text": [
      "Requirement already satisfied: pandas in ./data_merge/lib/python3.13/site-packages (2.2.3)\n",
      "Requirement already satisfied: numpy>=1.26.0 in ./data_merge/lib/python3.13/site-packages (from pandas) (2.2.6)\n",
      "Requirement already satisfied: python-dateutil>=2.8.2 in ./data_merge/lib/python3.13/site-packages (from pandas) (2.9.0.post0)\n",
      "Requirement already satisfied: pytz>=2020.1 in ./data_merge/lib/python3.13/site-packages (from pandas) (2025.2)\n",
      "Requirement already satisfied: tzdata>=2022.7 in ./data_merge/lib/python3.13/site-packages (from pandas) (2025.2)\n",
      "Requirement already satisfied: six>=1.5 in ./data_merge/lib/python3.13/site-packages (from python-dateutil>=2.8.2->pandas) (1.17.0)\n"
     ]
    }
   ],
   "source": [
    "!pip install pandas"
   ]
  },
  {
   "cell_type": "code",
   "execution_count": null,
   "id": "bf481002",
   "metadata": {},
   "outputs": [],
   "source": []
  },
  {
   "cell_type": "code",
   "execution_count": 3,
   "id": "80cb084e",
   "metadata": {},
   "outputs": [],
   "source": [
    "import pandas as pd\n",
    "import glob\n",
    "import os\n",
    "\n",
    "folder_path = '/Users/hassaanulhaq/Library/Mobile Documents/com~apple~CloudDocs/spring_2025/GIS/final_project/data/co_data'\n",
    "all_files = glob.glob(os.path.join(folder_path, \"*.csv\"))\n",
    "\n",
    "# Read the first file to initialize the master DataFrame\n",
    "master_df = pd.read_csv(all_files[0])\n",
    "\n",
    "for file in all_files[1:]:\n",
    "    df = pd.read_csv(file)\n",
    "    # Merge on common columns, e.g., 'date', 'lat', 'lon'\n",
    "    master_df = pd.merge(master_df, df, on=[\n",
    "        'Date', 'Source', 'Site ID', 'POC', 'Daily Max 8-hour CO Concentration', \n",
    "        'Units', 'Daily AQI Value', 'Local Site Name', 'Daily Obs Count', \n",
    "        'Percent Complete', 'AQS Parameter Code', 'AQS Parameter Description', \n",
    "        'Method Code', 'CBSA Code', 'CBSA Name', 'State FIPS Code', 'State', \n",
    "        'County FIPS Code', 'County', 'Site Latitude', 'Site Longitude'\n",
    "    ], how='outer')\n",
    "\n",
    "master_df.to_csv(os.path.join(folder_path, 'merged_file.csv'), index=False)\n"
   ]
  },
  {
   "cell_type": "code",
   "execution_count": 5,
   "id": "2fdd6483",
   "metadata": {},
   "outputs": [],
   "source": [
    "import pandas as pd\n",
    "import glob\n",
    "import os\n",
    "\n",
    "folder_path = '/Users/hassaanulhaq/Library/Mobile Documents/com~apple~CloudDocs/spring_2025/GIS/final_project/data/no_data'\n",
    "all_files = glob.glob(os.path.join(folder_path, \"*.csv\"))\n",
    "\n",
    "# Read the first file to initialize the master DataFrame\n",
    "master_df = pd.read_csv(all_files[0])\n",
    "\n",
    "for file in all_files[1:]:\n",
    "    df = pd.read_csv(file)\n",
    "    # Merge on common columns, e.g., 'date', 'lat', 'lon'\n",
    "    master_df = pd.merge(master_df, df, on=[\n",
    "        'Date', 'Source', 'Site ID', 'POC', 'Daily Max 1-hour NO2 Concentration', \n",
    "        'Units', 'Daily AQI Value', 'Local Site Name', 'Daily Obs Count', \n",
    "        'Percent Complete', 'AQS Parameter Code', 'AQS Parameter Description', \n",
    "        'Method Code', 'CBSA Code', 'CBSA Name', 'State FIPS Code', 'State', \n",
    "        'County FIPS Code', 'County', 'Site Latitude', 'Site Longitude'\n",
    "    ], how='outer')\n",
    "\n",
    "master_df.to_csv(os.path.join(folder_path, 'merged_file.csv'), index=False)\n"
   ]
  },
  {
   "cell_type": "code",
   "execution_count": 1,
   "id": "ef8a4d8d",
   "metadata": {},
   "outputs": [],
   "source": [
    "import pandas as pd\n",
    "import glob\n",
    "import os\n",
    "\n",
    "folder_path = '/Users/hassaanulhaq/Library/Mobile Documents/com~apple~CloudDocs/spring_2025/GIS/final_project/data/pm2.5'\n",
    "all_files = glob.glob(os.path.join(folder_path, \"*.csv\"))\n",
    "\n",
    "# Read the first file to initialize the master DataFrame\n",
    "master_df = pd.read_csv(all_files[0])\n",
    "\n",
    "for file in all_files[1:]:\n",
    "    df = pd.read_csv(file)\n",
    "    # Merge on common columns, e.g., 'date', 'lat', 'lon'\n",
    "    master_df = pd.merge(master_df, df, on=[\n",
    "        \"Date\",\"Source\",\"Site ID\",\"POC\",\"Daily Mean PM2.5 Concentration\",\"Units\",\"Daily AQI Value\",\"Local Site Name\",\"Daily Obs Count\",\"Percent Complete\",\"AQS Parameter Code\",\"AQS Parameter Description\",\"Method Code\",\"Method Description\",\"CBSA Code\",\"CBSA Name\",\"State FIPS Code\",\"State\",\"County FIPS Code\",\"County\",\"Site Latitude\",\"Site Longitude\"\n",
    "    ], how='outer')\n",
    "\n",
    "master_df.to_csv(os.path.join(folder_path, 'merged_file.csv'), index=False)\n"
   ]
  },
  {
   "cell_type": "code",
   "execution_count": 7,
   "id": "ef530cea",
   "metadata": {},
   "outputs": [],
   "source": [
    "import pandas as pd\n",
    "import glob\n",
    "import os\n",
    "\n",
    "folder_path = '/Users/hassaanulhaq/Library/Mobile Documents/com~apple~CloudDocs/spring_2025/GIS/final_project/data/so_data'\n",
    "all_files = glob.glob(os.path.join(folder_path, \"*.csv\"))\n",
    "\n",
    "# Read the first file to initialize the master DataFrame\n",
    "master_df = pd.read_csv(all_files[0])\n",
    "\n",
    "for file in all_files[1:]:\n",
    "    df = pd.read_csv(file)\n",
    "    # Merge on common columns, e.g., 'date', 'lat', 'lon'\n",
    "    master_df = pd.merge(master_df, df, on=[\n",
    "        'Date', 'Source', 'Site ID', 'POC', 'Daily Max 1-hour SO2 Concentration', \n",
    "        'Units', 'Daily AQI Value', 'Local Site Name', 'Daily Obs Count', \n",
    "        'Percent Complete', 'AQS Parameter Code', 'AQS Parameter Description', \n",
    "        'Method Code', 'CBSA Code', 'CBSA Name', 'State FIPS Code', 'State', \n",
    "        'County FIPS Code', 'County', 'Site Latitude', 'Site Longitude'\n",
    "    ], how='outer')\n",
    "\n",
    "master_df.to_csv(os.path.join(folder_path, 'merged_file.csv'), index=False)\n"
   ]
  },
  {
   "cell_type": "markdown",
   "id": "519a1344",
   "metadata": {},
   "source": [
    "## data_wrangle"
   ]
  },
  {
   "cell_type": "code",
   "execution_count": 1,
   "id": "473463b8",
   "metadata": {},
   "outputs": [],
   "source": [
    "import pandas as pd\n",
    "import glob\n",
    "import os\n"
   ]
  },
  {
   "cell_type": "code",
   "execution_count": 2,
   "id": "5b7eebf7",
   "metadata": {},
   "outputs": [],
   "source": [
    "df=pd.read_csv('/Users/hassaanulhaq/Library/Mobile Documents/com~apple~CloudDocs/spring_2025/GIS/final_project/data/co_data/merged_file.csv')\n"
   ]
  },
  {
   "cell_type": "code",
   "execution_count": 6,
   "id": "50c0885b",
   "metadata": {},
   "outputs": [
    {
     "ename": "ModuleNotFoundError",
     "evalue": "No module named 'seaborn'",
     "output_type": "error",
     "traceback": [
      "\u001b[31m---------------------------------------------------------------------------\u001b[39m",
      "\u001b[31mModuleNotFoundError\u001b[39m                       Traceback (most recent call last)",
      "\u001b[36mCell\u001b[39m\u001b[36m \u001b[39m\u001b[32mIn[6]\u001b[39m\u001b[32m, line 1\u001b[39m\n\u001b[32m----> \u001b[39m\u001b[32m1\u001b[39m \u001b[38;5;28;01mimport\u001b[39;00m\u001b[38;5;250m \u001b[39m\u001b[34;01mseaborn\u001b[39;00m\u001b[38;5;250m \u001b[39m\u001b[38;5;28;01mas\u001b[39;00m\u001b[38;5;250m \u001b[39m\u001b[34;01msns\u001b[39;00m\n\u001b[32m      3\u001b[39m \u001b[38;5;66;03m# Display basic information about the DataFrame\u001b[39;00m\n\u001b[32m      4\u001b[39m \u001b[38;5;28mprint\u001b[39m(\u001b[33m\"\u001b[39m\u001b[33mBasic Information:\u001b[39m\u001b[33m\"\u001b[39m)\n",
      "\u001b[31mModuleNotFoundError\u001b[39m: No module named 'seaborn'"
     ]
    }
   ],
   "source": [
    "import seaborn as sns\n",
    "\n",
    "# Display basic information about the DataFrame\n",
    "print(\"Basic Information:\")\n",
    "print(df.info())\n",
    "\n",
    "# Display summary statistics for numerical columns\n",
    "print(\"\\nSummary Statistics:\")\n",
    "print(df.describe())\n",
    "\n",
    "# Check for missing values\n",
    "print(\"\\nMissing Values:\")\n",
    "print(df.isnull().sum())\n",
    "\n",
    "# Display the first few rows of the DataFrame\n",
    "print(\"\\nFirst Few Rows:\")\n",
    "print(df.head())\n",
    "\n",
    "# Check the distribution of the 'Daily Max 8-hour CO Concentration'\n",
    "import matplotlib.pyplot as plt\n",
    "\n",
    "plt.figure(figsize=(10, 6))\n",
    "sns.histplot(df['Daily Max 8-hour CO Concentration'], kde=True, bins=30)\n",
    "plt.title('Distribution of Daily Max 8-hour CO Concentration')\n",
    "plt.xlabel('CO Concentration')\n",
    "plt.ylabel('Frequency')\n",
    "plt.show()\n",
    "\n",
    "# Check the correlation between numerical columns\n",
    "plt.figure(figsize=(12, 8))\n",
    "sns.heatmap(df.corr(), annot=True, cmap='coolwarm', fmt=\".2f\")\n",
    "plt.title('Correlation Matrix')\n",
    "plt.show()\n",
    "\n",
    "# Count the number of unique values in categorical columns\n",
    "categorical_columns = df.select_dtypes(include=['object']).columns\n",
    "print(\"\\nUnique Values in Categorical Columns:\")\n",
    "for col in categorical_columns:\n",
    "    print(f\"{col}: {df[col].nunique()} unique values\")"
   ]
  },
  {
   "cell_type": "code",
   "execution_count": null,
   "id": "197f8cf8",
   "metadata": {},
   "outputs": [],
   "source": []
  }
 ],
 "metadata": {
  "kernelspec": {
   "display_name": "data_merge",
   "language": "python",
   "name": "python3"
  },
  "language_info": {
   "codemirror_mode": {
    "name": "ipython",
    "version": 3
   },
   "file_extension": ".py",
   "mimetype": "text/x-python",
   "name": "python",
   "nbconvert_exporter": "python",
   "pygments_lexer": "ipython3",
   "version": "3.13.2"
  }
 },
 "nbformat": 4,
 "nbformat_minor": 5
}
