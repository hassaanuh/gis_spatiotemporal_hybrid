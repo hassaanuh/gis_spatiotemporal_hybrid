{
 "cells": [
  {
   "cell_type": "markdown",
   "id": "ae0014e8",
   "metadata": {},
   "source": [
    "## Loading the grid data "
   ]
  },
  {
   "cell_type": "code",
   "execution_count": 1,
   "id": "079886e1",
   "metadata": {},
   "outputs": [],
   "source": [
    "import pandas as pd"
   ]
  },
  {
   "cell_type": "code",
   "execution_count": 2,
   "id": "cd3c9dca",
   "metadata": {},
   "outputs": [],
   "source": [
    "df=pd.read_csv('/Users/hassaanulhaq/Library/Mobile Documents/com~apple~CloudDocs/spring_2025/GIS/final_project/clone_gis/gis_spatiotemporal_hybrid/grid_data/grid_monthly_data.csv')"
   ]
  },
  {
   "cell_type": "code",
   "execution_count": 3,
   "id": "7ac33743",
   "metadata": {},
   "outputs": [
    {
     "data": {
      "text/plain": [
       "Index(['Month_Year', 'grid_id', '2.5', 'CO', 'NO', 'PM10', 'SO2', 'month',\n",
       "       'year'],\n",
       "      dtype='object')"
      ]
     },
     "execution_count": 3,
     "metadata": {},
     "output_type": "execute_result"
    }
   ],
   "source": [
    "df.columns"
   ]
  },
  {
   "cell_type": "code",
   "execution_count": 5,
   "id": "3dbf841c",
   "metadata": {},
   "outputs": [
    {
     "name": "stdout",
     "output_type": "stream",
     "text": [
      "   Month_Year grid_id       2.5        CO        NO      PM10       SO2  \\\n",
      "0  2011-01-01    10_2  1.321495 -0.335843  0.269377 -0.779806  0.547902   \n",
      "1  2011-01-01    1_-2       NaN       NaN       NaN       NaN  2.618263   \n",
      "2  2011-01-01     1_4  1.687086       NaN       NaN       NaN       NaN   \n",
      "3  2011-01-01     1_9  1.297026       NaN       NaN -0.665755       NaN   \n",
      "4  2011-01-01     3_4  1.455528       NaN  0.929956       NaN  0.945232   \n",
      "\n",
      "      month     year  \n",
      "0 -1.599228 -1.69753  \n",
      "1 -1.599228 -1.69753  \n",
      "2 -1.599228 -1.69753  \n",
      "3 -1.599228 -1.69753  \n",
      "4 -1.599228 -1.69753  \n"
     ]
    }
   ],
   "source": [
    "print(df.head())"
   ]
  },
  {
   "cell_type": "code",
   "execution_count": 7,
   "id": "b0d0e2d3",
   "metadata": {},
   "outputs": [
    {
     "name": "stdout",
     "output_type": "stream",
     "text": [
      "merged_2.5_monthly.csv: ['Local Site Name', 'Month_Year', 'monthly_value', 'Site Latitude', 'Site Longitude', 'pollutant']\n",
      "merged_co_monthly.csv: ['Local Site Name', 'Month_Year', 'monthly_value', 'Site Latitude', 'Site Longitude', 'pollutant']\n",
      "merged_so2_monthly.csv: ['Local Site Name', 'Month_Year', 'monthly_value', 'Site Latitude', 'Site Longitude', 'pollutant']\n",
      "merged_no_monthly.csv: ['Local Site Name', 'Month_Year', 'monthly_value', 'Site Latitude', 'Site Longitude', 'pollutant']\n",
      "merged_pm10_monthly.csv: ['Local Site Name', 'Month_Year', 'monthly_value', 'Site Latitude', 'Site Longitude', 'pollutant']\n"
     ]
    }
   ],
   "source": [
    "import os\n",
    "\n",
    "monthly_folder = '/Users/hassaanulhaq/Library/Mobile Documents/com~apple~CloudDocs/spring_2025/GIS/final_project/clone_gis/gis_spatiotemporal_hybrid/monthly'\n",
    "csv_files = [f for f in os.listdir(monthly_folder) if f.endswith('.csv')]\n",
    "\n",
    "for file in csv_files:\n",
    "    file_path = os.path.join(monthly_folder, file)\n",
    "    temp_df = pd.read_csv(file_path, nrows=1)\n",
    "    print(f\"{file}: {list(temp_df.columns)}\")"
   ]
  },
  {
   "cell_type": "code",
   "execution_count": 9,
   "id": "e4a86bfb",
   "metadata": {},
   "outputs": [],
   "source": [
    "files = {\n",
    "    'PM2.5': 'monthly/merged_2.5_monthly.csv',\n",
    "    'CO': 'monthly/merged_co_monthly.csv',\n",
    "    'SO2': 'monthly/merged_so2_monthly.csv',\n",
    "    'NO': 'monthly/merged_no_monthly.csv',\n",
    "    'PM10': 'monthly/merged_pm10_monthly.csv'\n",
    "}\n",
    "dfs = [pd.read_csv(f).assign(pollutant=name) for name, f in files.items()]\n",
    "combined_df = pd.concat(dfs).pivot_table(index=['Local Site Name', 'Month_Year', 'Site Latitude', 'Site Longitude'],\n",
    "                                        columns='pollutant', values='monthly_value')\n"
   ]
  },
  {
   "cell_type": "code",
   "execution_count": 11,
   "id": "565925b8",
   "metadata": {},
   "outputs": [
    {
     "name": "stdout",
     "output_type": "stream",
     "text": [
      "pollutant                                                   CO  NO  PM10  \\\n",
      "Local Site Name    Month_Year Site Latitude Site Longitude                 \n",
      "4TH DISTRICT COURT 2011-01    41.872897     -87.825872     NaN NaN   NaN   \n",
      "                   2011-02    41.872897     -87.825872     NaN NaN   NaN   \n",
      "                   2011-03    41.872897     -87.825872     NaN NaN   NaN   \n",
      "                   2011-04    41.872897     -87.825872     NaN NaN   NaN   \n",
      "                   2011-05    41.872897     -87.825872     NaN NaN   NaN   \n",
      "\n",
      "pollutant                                                       PM2.5  SO2  \n",
      "Local Site Name    Month_Year Site Latitude Site Longitude                  \n",
      "4TH DISTRICT COURT 2011-01    41.872897     -87.825872      57.870968  NaN  \n",
      "                   2011-02    41.872897     -87.825872      52.440000  NaN  \n",
      "                   2011-03    41.872897     -87.825872      49.064516  NaN  \n",
      "                   2011-04    41.872897     -87.825872      51.448276  NaN  \n",
      "                   2011-05    41.872897     -87.825872      53.935484  NaN  \n"
     ]
    }
   ],
   "source": [
    "print(combined_df.head())"
   ]
  },
  {
   "cell_type": "code",
   "execution_count": 12,
   "id": "555281bc",
   "metadata": {},
   "outputs": [],
   "source": [
    "combined_df.to_csv('/Users/hassaanulhaq/Library/Mobile Documents/com~apple~CloudDocs/spring_2025/GIS/final_project/clone_gis/gis_spatiotemporal_hybrid/grid_data/combined.csv', index=True)"
   ]
  },
  {
   "cell_type": "markdown",
   "id": "03e52dff",
   "metadata": {},
   "source": [
    "### In this we are basically using combined_df because now each pollutant is a column, and we have data for each pollutant. Now we convert it to grid"
   ]
  },
  {
   "cell_type": "markdown",
   "id": "9e239ef1",
   "metadata": {},
   "source": []
  },
  {
   "cell_type": "code",
   "execution_count": 15,
   "id": "41cebbc0",
   "metadata": {},
   "outputs": [],
   "source": [
    "import numpy as np"
   ]
  },
  {
   "cell_type": "code",
   "execution_count": 20,
   "id": "6d75ef47",
   "metadata": {},
   "outputs": [
    {
     "name": "stdout",
     "output_type": "stream",
     "text": [
      "Number of valid data points: 1678\n",
      "Kriging interpolation completed successfully\n"
     ]
    }
   ],
   "source": [
    "from pykrige.ok import OrdinaryKriging\n",
    "\n",
    "df_reset = combined_df.reset_index()\n",
    "\n",
    "df_clean = df_reset.dropna(subset=['PM2.5', 'Site Latitude', 'Site Longitude'])\n",
    "\n",
    "print(f\"Number of valid data points: {len(df_clean)}\")\n",
    "\n",
    "if len(df_clean) > 0:\n",
    "    grid_lat = np.arange(df_clean['Site Latitude'].min(), df_clean['Site Latitude'].max(), 0.1)\n",
    "    grid_lon = np.arange(df_clean['Site Longitude'].min(), df_clean['Site Longitude'].max(), 0.1)\n",
    "    \n",
    "    OK = OrdinaryKriging(df_clean['Site Longitude'], df_clean['Site Latitude'], df_clean['PM2.5'])\n",
    "    z, _ = OK.execute('grid', grid_lon, grid_lat)\n",
    "    print(\"Kriging interpolation completed successfully\")\n",
    "else:\n",
    "    print(\"No valid data points found for interpolation\")\n"
   ]
  },
  {
   "cell_type": "code",
   "execution_count": 25,
   "id": "46e56538",
   "metadata": {},
   "outputs": [
    {
     "name": "stderr",
     "output_type": "stream",
     "text": [
      "/Users/hassaanulhaq/Library/Mobile Documents/com~apple~CloudDocs/spring_2025/GIS/final_project/clone_gis/gis_spatiotemporal_hybrid/myenv12/lib/python3.12/site-packages/keras/src/layers/rnn/rnn.py:199: UserWarning: Do not pass an `input_shape`/`input_dim` argument to a layer. When using Sequential models, prefer using an `Input(shape)` object as the first layer in the model instead.\n",
      "  super().__init__(**kwargs)\n"
     ]
    }
   ],
   "source": [
    "from tensorflow.keras.models import Sequential\n",
    "from tensorflow.keras.layers import ConvLSTM2D, Reshape, Concatenate\n",
    "from sklearn.neighbors import NearestNeighbors\n",
    "import numpy as np\n",
    "\n",
    "# Prepare latlon_coords from df_clean\n",
    "latlon_coords = df_clean[['Site Latitude', 'Site Longitude']].to_numpy()\n",
    "\n",
    "# Define calculate_knn using sklearn\n",
    "def calculate_knn(coords, k=5):\n",
    "    nbrs = NearestNeighbors(n_neighbors=k+1, algorithm='ball_tree').fit(coords)\n",
    "    distances, indices = nbrs.kneighbors(coords)\n",
    "    # Exclude self (first neighbor is the point itself)\n",
    "    return indices[:, 1:]\n",
    "\n",
    "# Spatial KNN component (k=5 nearest neighbors)\n",
    "knn_indices = calculate_knn(latlon_coords, k=5)\n",
    "\n",
    "# Define model input dimensions (example values, adjust as needed)\n",
    "seq_length = 12  # e.g., 12 months\n",
    "grid_h = 50\n",
    "grid_w = 50\n",
    "num_features = 5 # e.g., only PM2.5, or set to number of pollutants\n",
    "\n",
    "# ConvLSTM backbone\n",
    "from tensorflow.keras.layers import Dense\n",
    "\n",
    "model = Sequential([\n",
    "    ConvLSTM2D(filters=64, kernel_size=(3,3), \n",
    "               input_shape=(seq_length, grid_h, grid_w, num_features),\n",
    "               padding='same', return_sequences=True),\n",
    "\n",
    "    # SpatioTemporalAttention(),  # Custom attention layer (removed or define if needed)\n",
    "    ConvLSTM2D(filters=64, kernel_size=(3,3), return_sequences=False, padding='same'),\n",
    "    Dense(1)  # Replace with prediction_horizon if defined\n",
    "])\n"
   ]
  },
  {
   "cell_type": "code",
   "execution_count": 26,
   "id": "e287a093",
   "metadata": {},
   "outputs": [
    {
     "data": {
      "text/html": [
       "<pre style=\"white-space:pre;overflow-x:auto;line-height:normal;font-family:Menlo,'DejaVu Sans Mono',consolas,'Courier New',monospace\"><span style=\"font-weight: bold\">Model: \"sequential_1\"</span>\n",
       "</pre>\n"
      ],
      "text/plain": [
       "\u001b[1mModel: \"sequential_1\"\u001b[0m\n"
      ]
     },
     "metadata": {},
     "output_type": "display_data"
    },
    {
     "data": {
      "text/html": [
       "<pre style=\"white-space:pre;overflow-x:auto;line-height:normal;font-family:Menlo,'DejaVu Sans Mono',consolas,'Courier New',monospace\">┏━━━━━━━━━━━━━━━━━━━━━━━━━━━━━━━━━┳━━━━━━━━━━━━━━━━━━━━━━━━┳━━━━━━━━━━━━━━━┓\n",
       "┃<span style=\"font-weight: bold\"> Layer (type)                    </span>┃<span style=\"font-weight: bold\"> Output Shape           </span>┃<span style=\"font-weight: bold\">       Param # </span>┃\n",
       "┡━━━━━━━━━━━━━━━━━━━━━━━━━━━━━━━━━╇━━━━━━━━━━━━━━━━━━━━━━━━╇━━━━━━━━━━━━━━━┩\n",
       "│ conv_lstm2d_2 (<span style=\"color: #0087ff; text-decoration-color: #0087ff\">ConvLSTM2D</span>)      │ (<span style=\"color: #00d7ff; text-decoration-color: #00d7ff\">None</span>, <span style=\"color: #00af00; text-decoration-color: #00af00\">12</span>, <span style=\"color: #00af00; text-decoration-color: #00af00\">50</span>, <span style=\"color: #00af00; text-decoration-color: #00af00\">50</span>, <span style=\"color: #00af00; text-decoration-color: #00af00\">64</span>) │       <span style=\"color: #00af00; text-decoration-color: #00af00\">159,232</span> │\n",
       "├─────────────────────────────────┼────────────────────────┼───────────────┤\n",
       "│ conv_lstm2d_3 (<span style=\"color: #0087ff; text-decoration-color: #0087ff\">ConvLSTM2D</span>)      │ (<span style=\"color: #00d7ff; text-decoration-color: #00d7ff\">None</span>, <span style=\"color: #00af00; text-decoration-color: #00af00\">50</span>, <span style=\"color: #00af00; text-decoration-color: #00af00\">50</span>, <span style=\"color: #00af00; text-decoration-color: #00af00\">64</span>)     │       <span style=\"color: #00af00; text-decoration-color: #00af00\">295,168</span> │\n",
       "├─────────────────────────────────┼────────────────────────┼───────────────┤\n",
       "│ dense_1 (<span style=\"color: #0087ff; text-decoration-color: #0087ff\">Dense</span>)                 │ (<span style=\"color: #00d7ff; text-decoration-color: #00d7ff\">None</span>, <span style=\"color: #00af00; text-decoration-color: #00af00\">50</span>, <span style=\"color: #00af00; text-decoration-color: #00af00\">50</span>, <span style=\"color: #00af00; text-decoration-color: #00af00\">1</span>)      │            <span style=\"color: #00af00; text-decoration-color: #00af00\">65</span> │\n",
       "└─────────────────────────────────┴────────────────────────┴───────────────┘\n",
       "</pre>\n"
      ],
      "text/plain": [
       "┏━━━━━━━━━━━━━━━━━━━━━━━━━━━━━━━━━┳━━━━━━━━━━━━━━━━━━━━━━━━┳━━━━━━━━━━━━━━━┓\n",
       "┃\u001b[1m \u001b[0m\u001b[1mLayer (type)                   \u001b[0m\u001b[1m \u001b[0m┃\u001b[1m \u001b[0m\u001b[1mOutput Shape          \u001b[0m\u001b[1m \u001b[0m┃\u001b[1m \u001b[0m\u001b[1m      Param #\u001b[0m\u001b[1m \u001b[0m┃\n",
       "┡━━━━━━━━━━━━━━━━━━━━━━━━━━━━━━━━━╇━━━━━━━━━━━━━━━━━━━━━━━━╇━━━━━━━━━━━━━━━┩\n",
       "│ conv_lstm2d_2 (\u001b[38;5;33mConvLSTM2D\u001b[0m)      │ (\u001b[38;5;45mNone\u001b[0m, \u001b[38;5;34m12\u001b[0m, \u001b[38;5;34m50\u001b[0m, \u001b[38;5;34m50\u001b[0m, \u001b[38;5;34m64\u001b[0m) │       \u001b[38;5;34m159,232\u001b[0m │\n",
       "├─────────────────────────────────┼────────────────────────┼───────────────┤\n",
       "│ conv_lstm2d_3 (\u001b[38;5;33mConvLSTM2D\u001b[0m)      │ (\u001b[38;5;45mNone\u001b[0m, \u001b[38;5;34m50\u001b[0m, \u001b[38;5;34m50\u001b[0m, \u001b[38;5;34m64\u001b[0m)     │       \u001b[38;5;34m295,168\u001b[0m │\n",
       "├─────────────────────────────────┼────────────────────────┼───────────────┤\n",
       "│ dense_1 (\u001b[38;5;33mDense\u001b[0m)                 │ (\u001b[38;5;45mNone\u001b[0m, \u001b[38;5;34m50\u001b[0m, \u001b[38;5;34m50\u001b[0m, \u001b[38;5;34m1\u001b[0m)      │            \u001b[38;5;34m65\u001b[0m │\n",
       "└─────────────────────────────────┴────────────────────────┴───────────────┘\n"
      ]
     },
     "metadata": {},
     "output_type": "display_data"
    },
    {
     "data": {
      "text/html": [
       "<pre style=\"white-space:pre;overflow-x:auto;line-height:normal;font-family:Menlo,'DejaVu Sans Mono',consolas,'Courier New',monospace\"><span style=\"font-weight: bold\"> Total params: </span><span style=\"color: #00af00; text-decoration-color: #00af00\">454,465</span> (1.73 MB)\n",
       "</pre>\n"
      ],
      "text/plain": [
       "\u001b[1m Total params: \u001b[0m\u001b[38;5;34m454,465\u001b[0m (1.73 MB)\n"
      ]
     },
     "metadata": {},
     "output_type": "display_data"
    },
    {
     "data": {
      "text/html": [
       "<pre style=\"white-space:pre;overflow-x:auto;line-height:normal;font-family:Menlo,'DejaVu Sans Mono',consolas,'Courier New',monospace\"><span style=\"font-weight: bold\"> Trainable params: </span><span style=\"color: #00af00; text-decoration-color: #00af00\">454,465</span> (1.73 MB)\n",
       "</pre>\n"
      ],
      "text/plain": [
       "\u001b[1m Trainable params: \u001b[0m\u001b[38;5;34m454,465\u001b[0m (1.73 MB)\n"
      ]
     },
     "metadata": {},
     "output_type": "display_data"
    },
    {
     "data": {
      "text/html": [
       "<pre style=\"white-space:pre;overflow-x:auto;line-height:normal;font-family:Menlo,'DejaVu Sans Mono',consolas,'Courier New',monospace\"><span style=\"font-weight: bold\"> Non-trainable params: </span><span style=\"color: #00af00; text-decoration-color: #00af00\">0</span> (0.00 B)\n",
       "</pre>\n"
      ],
      "text/plain": [
       "\u001b[1m Non-trainable params: \u001b[0m\u001b[38;5;34m0\u001b[0m (0.00 B)\n"
      ]
     },
     "metadata": {},
     "output_type": "display_data"
    }
   ],
   "source": [
    "model.summary()"
   ]
  },
  {
   "cell_type": "markdown",
   "id": "c9528140",
   "metadata": {},
   "source": [
    "### Above is a functional convlstm. We need to add KNN and STA to it"
   ]
  },
  {
   "cell_type": "code",
   "execution_count": 42,
   "id": "3da1b406",
   "metadata": {},
   "outputs": [
    {
     "data": {
      "text/html": [
       "<pre style=\"white-space:pre;overflow-x:auto;line-height:normal;font-family:Menlo,'DejaVu Sans Mono',consolas,'Courier New',monospace\"><span style=\"font-weight: bold\">Model: \"functional_3\"</span>\n",
       "</pre>\n"
      ],
      "text/plain": [
       "\u001b[1mModel: \"functional_3\"\u001b[0m\n"
      ]
     },
     "metadata": {},
     "output_type": "display_data"
    },
    {
     "data": {
      "text/html": [
       "<pre style=\"white-space:pre;overflow-x:auto;line-height:normal;font-family:Menlo,'DejaVu Sans Mono',consolas,'Courier New',monospace\">┏━━━━━━━━━━━━━━━━━━━━━┳━━━━━━━━━━━━━━━━━━━┳━━━━━━━━━━━━┳━━━━━━━━━━━━━━━━━━━┓\n",
       "┃<span style=\"font-weight: bold\"> Layer (type)        </span>┃<span style=\"font-weight: bold\"> Output Shape      </span>┃<span style=\"font-weight: bold\">    Param # </span>┃<span style=\"font-weight: bold\"> Connected to      </span>┃\n",
       "┡━━━━━━━━━━━━━━━━━━━━━╇━━━━━━━━━━━━━━━━━━━╇━━━━━━━━━━━━╇━━━━━━━━━━━━━━━━━━━┩\n",
       "│ input_layer_6       │ (<span style=\"color: #00d7ff; text-decoration-color: #00d7ff\">None</span>, <span style=\"color: #00af00; text-decoration-color: #00af00\">12</span>, <span style=\"color: #00af00; text-decoration-color: #00af00\">50</span>,    │          <span style=\"color: #00af00; text-decoration-color: #00af00\">0</span> │ -                 │\n",
       "│ (<span style=\"color: #0087ff; text-decoration-color: #0087ff\">InputLayer</span>)        │ <span style=\"color: #00af00; text-decoration-color: #00af00\">50</span>, <span style=\"color: #00af00; text-decoration-color: #00af00\">5</span>)            │            │                   │\n",
       "├─────────────────────┼───────────────────┼────────────┼───────────────────┤\n",
       "│ knn_reducer_3       │ (<span style=\"color: #00d7ff; text-decoration-color: #00d7ff\">None</span>, <span style=\"color: #00af00; text-decoration-color: #00af00\">12</span>, <span style=\"color: #00af00; text-decoration-color: #00af00\">50</span>,    │          <span style=\"color: #00af00; text-decoration-color: #00af00\">0</span> │ input_layer_6[<span style=\"color: #00af00; text-decoration-color: #00af00\">0</span>]… │\n",
       "│ (<span style=\"color: #0087ff; text-decoration-color: #0087ff\">KNNReducer</span>)        │ <span style=\"color: #00af00; text-decoration-color: #00af00\">50</span>, <span style=\"color: #00af00; text-decoration-color: #00af00\">5</span>)            │            │                   │\n",
       "├─────────────────────┼───────────────────┼────────────┼───────────────────┤\n",
       "│ conv_lstm2d_16      │ (<span style=\"color: #00d7ff; text-decoration-color: #00d7ff\">None</span>, <span style=\"color: #00af00; text-decoration-color: #00af00\">12</span>, <span style=\"color: #00af00; text-decoration-color: #00af00\">50</span>,    │    <span style=\"color: #00af00; text-decoration-color: #00af00\">159,232</span> │ knn_reducer_3[<span style=\"color: #00af00; text-decoration-color: #00af00\">0</span>]… │\n",
       "│ (<span style=\"color: #0087ff; text-decoration-color: #0087ff\">ConvLSTM2D</span>)        │ <span style=\"color: #00af00; text-decoration-color: #00af00\">50</span>, <span style=\"color: #00af00; text-decoration-color: #00af00\">64</span>)           │            │                   │\n",
       "├─────────────────────┼───────────────────┼────────────┼───────────────────┤\n",
       "│ layer_normalizatio… │ (<span style=\"color: #00d7ff; text-decoration-color: #00d7ff\">None</span>, <span style=\"color: #00af00; text-decoration-color: #00af00\">12</span>, <span style=\"color: #00af00; text-decoration-color: #00af00\">50</span>,    │        <span style=\"color: #00af00; text-decoration-color: #00af00\">128</span> │ conv_lstm2d_16[<span style=\"color: #00af00; text-decoration-color: #00af00\">0</span>… │\n",
       "│ (<span style=\"color: #0087ff; text-decoration-color: #0087ff\">LayerNormalizatio…</span> │ <span style=\"color: #00af00; text-decoration-color: #00af00\">50</span>, <span style=\"color: #00af00; text-decoration-color: #00af00\">64</span>)           │            │                   │\n",
       "├─────────────────────┼───────────────────┼────────────┼───────────────────┤\n",
       "│ conv_lstm2d_17      │ (<span style=\"color: #00d7ff; text-decoration-color: #00d7ff\">None</span>, <span style=\"color: #00af00; text-decoration-color: #00af00\">12</span>, <span style=\"color: #00af00; text-decoration-color: #00af00\">50</span>,    │    <span style=\"color: #00af00; text-decoration-color: #00af00\">295,168</span> │ layer_normalizat… │\n",
       "│ (<span style=\"color: #0087ff; text-decoration-color: #0087ff\">ConvLSTM2D</span>)        │ <span style=\"color: #00af00; text-decoration-color: #00af00\">50</span>, <span style=\"color: #00af00; text-decoration-color: #00af00\">64</span>)           │            │                   │\n",
       "├─────────────────────┼───────────────────┼────────────┼───────────────────┤\n",
       "│ add_6 (<span style=\"color: #0087ff; text-decoration-color: #0087ff\">Add</span>)         │ (<span style=\"color: #00d7ff; text-decoration-color: #00d7ff\">None</span>, <span style=\"color: #00af00; text-decoration-color: #00af00\">12</span>, <span style=\"color: #00af00; text-decoration-color: #00af00\">50</span>,    │          <span style=\"color: #00af00; text-decoration-color: #00af00\">0</span> │ conv_lstm2d_16[<span style=\"color: #00af00; text-decoration-color: #00af00\">0</span>… │\n",
       "│                     │ <span style=\"color: #00af00; text-decoration-color: #00af00\">50</span>, <span style=\"color: #00af00; text-decoration-color: #00af00\">64</span>)           │            │ conv_lstm2d_17[<span style=\"color: #00af00; text-decoration-color: #00af00\">0</span>… │\n",
       "├─────────────────────┼───────────────────┼────────────┼───────────────────┤\n",
       "│ layer_normalizatio… │ (<span style=\"color: #00d7ff; text-decoration-color: #00d7ff\">None</span>, <span style=\"color: #00af00; text-decoration-color: #00af00\">12</span>, <span style=\"color: #00af00; text-decoration-color: #00af00\">50</span>,    │        <span style=\"color: #00af00; text-decoration-color: #00af00\">128</span> │ add_6[<span style=\"color: #00af00; text-decoration-color: #00af00\">0</span>][<span style=\"color: #00af00; text-decoration-color: #00af00\">0</span>]       │\n",
       "│ (<span style=\"color: #0087ff; text-decoration-color: #0087ff\">LayerNormalizatio…</span> │ <span style=\"color: #00af00; text-decoration-color: #00af00\">50</span>, <span style=\"color: #00af00; text-decoration-color: #00af00\">64</span>)           │            │                   │\n",
       "├─────────────────────┼───────────────────┼────────────┼───────────────────┤\n",
       "│ conv_lstm2d_18      │ (<span style=\"color: #00d7ff; text-decoration-color: #00d7ff\">None</span>, <span style=\"color: #00af00; text-decoration-color: #00af00\">12</span>, <span style=\"color: #00af00; text-decoration-color: #00af00\">50</span>,    │    <span style=\"color: #00af00; text-decoration-color: #00af00\">295,168</span> │ layer_normalizat… │\n",
       "│ (<span style=\"color: #0087ff; text-decoration-color: #0087ff\">ConvLSTM2D</span>)        │ <span style=\"color: #00af00; text-decoration-color: #00af00\">50</span>, <span style=\"color: #00af00; text-decoration-color: #00af00\">64</span>)           │            │                   │\n",
       "├─────────────────────┼───────────────────┼────────────┼───────────────────┤\n",
       "│ add_7 (<span style=\"color: #0087ff; text-decoration-color: #0087ff\">Add</span>)         │ (<span style=\"color: #00d7ff; text-decoration-color: #00d7ff\">None</span>, <span style=\"color: #00af00; text-decoration-color: #00af00\">12</span>, <span style=\"color: #00af00; text-decoration-color: #00af00\">50</span>,    │          <span style=\"color: #00af00; text-decoration-color: #00af00\">0</span> │ add_6[<span style=\"color: #00af00; text-decoration-color: #00af00\">0</span>][<span style=\"color: #00af00; text-decoration-color: #00af00\">0</span>],      │\n",
       "│                     │ <span style=\"color: #00af00; text-decoration-color: #00af00\">50</span>, <span style=\"color: #00af00; text-decoration-color: #00af00\">64</span>)           │            │ conv_lstm2d_18[<span style=\"color: #00af00; text-decoration-color: #00af00\">0</span>… │\n",
       "├─────────────────────┼───────────────────┼────────────┼───────────────────┤\n",
       "│ spatio_temporal_at… │ (<span style=\"color: #00d7ff; text-decoration-color: #00d7ff\">None</span>, <span style=\"color: #00af00; text-decoration-color: #00af00\">12</span>, <span style=\"color: #00af00; text-decoration-color: #00af00\">50</span>,    │          <span style=\"color: #00af00; text-decoration-color: #00af00\">2</span> │ add_7[<span style=\"color: #00af00; text-decoration-color: #00af00\">0</span>][<span style=\"color: #00af00; text-decoration-color: #00af00\">0</span>]       │\n",
       "│ (<span style=\"color: #0087ff; text-decoration-color: #0087ff\">SpatioTemporalAtt…</span> │ <span style=\"color: #00af00; text-decoration-color: #00af00\">50</span>, <span style=\"color: #00af00; text-decoration-color: #00af00\">64</span>)           │            │                   │\n",
       "├─────────────────────┼───────────────────┼────────────┼───────────────────┤\n",
       "│ conv_lstm2d_19      │ (<span style=\"color: #00d7ff; text-decoration-color: #00d7ff\">None</span>, <span style=\"color: #00af00; text-decoration-color: #00af00\">50</span>, <span style=\"color: #00af00; text-decoration-color: #00af00\">50</span>,    │    <span style=\"color: #00af00; text-decoration-color: #00af00\">295,168</span> │ spatio_temporal_… │\n",
       "│ (<span style=\"color: #0087ff; text-decoration-color: #0087ff\">ConvLSTM2D</span>)        │ <span style=\"color: #00af00; text-decoration-color: #00af00\">64</span>)               │            │                   │\n",
       "├─────────────────────┼───────────────────┼────────────┼───────────────────┤\n",
       "│ dense_4 (<span style=\"color: #0087ff; text-decoration-color: #0087ff\">Dense</span>)     │ (<span style=\"color: #00d7ff; text-decoration-color: #00d7ff\">None</span>, <span style=\"color: #00af00; text-decoration-color: #00af00\">50</span>, <span style=\"color: #00af00; text-decoration-color: #00af00\">50</span>, <span style=\"color: #00af00; text-decoration-color: #00af00\">1</span>) │         <span style=\"color: #00af00; text-decoration-color: #00af00\">65</span> │ conv_lstm2d_19[<span style=\"color: #00af00; text-decoration-color: #00af00\">0</span>… │\n",
       "└─────────────────────┴───────────────────┴────────────┴───────────────────┘\n",
       "</pre>\n"
      ],
      "text/plain": [
       "┏━━━━━━━━━━━━━━━━━━━━━┳━━━━━━━━━━━━━━━━━━━┳━━━━━━━━━━━━┳━━━━━━━━━━━━━━━━━━━┓\n",
       "┃\u001b[1m \u001b[0m\u001b[1mLayer (type)       \u001b[0m\u001b[1m \u001b[0m┃\u001b[1m \u001b[0m\u001b[1mOutput Shape     \u001b[0m\u001b[1m \u001b[0m┃\u001b[1m \u001b[0m\u001b[1m   Param #\u001b[0m\u001b[1m \u001b[0m┃\u001b[1m \u001b[0m\u001b[1mConnected to     \u001b[0m\u001b[1m \u001b[0m┃\n",
       "┡━━━━━━━━━━━━━━━━━━━━━╇━━━━━━━━━━━━━━━━━━━╇━━━━━━━━━━━━╇━━━━━━━━━━━━━━━━━━━┩\n",
       "│ input_layer_6       │ (\u001b[38;5;45mNone\u001b[0m, \u001b[38;5;34m12\u001b[0m, \u001b[38;5;34m50\u001b[0m,    │          \u001b[38;5;34m0\u001b[0m │ -                 │\n",
       "│ (\u001b[38;5;33mInputLayer\u001b[0m)        │ \u001b[38;5;34m50\u001b[0m, \u001b[38;5;34m5\u001b[0m)            │            │                   │\n",
       "├─────────────────────┼───────────────────┼────────────┼───────────────────┤\n",
       "│ knn_reducer_3       │ (\u001b[38;5;45mNone\u001b[0m, \u001b[38;5;34m12\u001b[0m, \u001b[38;5;34m50\u001b[0m,    │          \u001b[38;5;34m0\u001b[0m │ input_layer_6[\u001b[38;5;34m0\u001b[0m]… │\n",
       "│ (\u001b[38;5;33mKNNReducer\u001b[0m)        │ \u001b[38;5;34m50\u001b[0m, \u001b[38;5;34m5\u001b[0m)            │            │                   │\n",
       "├─────────────────────┼───────────────────┼────────────┼───────────────────┤\n",
       "│ conv_lstm2d_16      │ (\u001b[38;5;45mNone\u001b[0m, \u001b[38;5;34m12\u001b[0m, \u001b[38;5;34m50\u001b[0m,    │    \u001b[38;5;34m159,232\u001b[0m │ knn_reducer_3[\u001b[38;5;34m0\u001b[0m]… │\n",
       "│ (\u001b[38;5;33mConvLSTM2D\u001b[0m)        │ \u001b[38;5;34m50\u001b[0m, \u001b[38;5;34m64\u001b[0m)           │            │                   │\n",
       "├─────────────────────┼───────────────────┼────────────┼───────────────────┤\n",
       "│ layer_normalizatio… │ (\u001b[38;5;45mNone\u001b[0m, \u001b[38;5;34m12\u001b[0m, \u001b[38;5;34m50\u001b[0m,    │        \u001b[38;5;34m128\u001b[0m │ conv_lstm2d_16[\u001b[38;5;34m0\u001b[0m… │\n",
       "│ (\u001b[38;5;33mLayerNormalizatio…\u001b[0m │ \u001b[38;5;34m50\u001b[0m, \u001b[38;5;34m64\u001b[0m)           │            │                   │\n",
       "├─────────────────────┼───────────────────┼────────────┼───────────────────┤\n",
       "│ conv_lstm2d_17      │ (\u001b[38;5;45mNone\u001b[0m, \u001b[38;5;34m12\u001b[0m, \u001b[38;5;34m50\u001b[0m,    │    \u001b[38;5;34m295,168\u001b[0m │ layer_normalizat… │\n",
       "│ (\u001b[38;5;33mConvLSTM2D\u001b[0m)        │ \u001b[38;5;34m50\u001b[0m, \u001b[38;5;34m64\u001b[0m)           │            │                   │\n",
       "├─────────────────────┼───────────────────┼────────────┼───────────────────┤\n",
       "│ add_6 (\u001b[38;5;33mAdd\u001b[0m)         │ (\u001b[38;5;45mNone\u001b[0m, \u001b[38;5;34m12\u001b[0m, \u001b[38;5;34m50\u001b[0m,    │          \u001b[38;5;34m0\u001b[0m │ conv_lstm2d_16[\u001b[38;5;34m0\u001b[0m… │\n",
       "│                     │ \u001b[38;5;34m50\u001b[0m, \u001b[38;5;34m64\u001b[0m)           │            │ conv_lstm2d_17[\u001b[38;5;34m0\u001b[0m… │\n",
       "├─────────────────────┼───────────────────┼────────────┼───────────────────┤\n",
       "│ layer_normalizatio… │ (\u001b[38;5;45mNone\u001b[0m, \u001b[38;5;34m12\u001b[0m, \u001b[38;5;34m50\u001b[0m,    │        \u001b[38;5;34m128\u001b[0m │ add_6[\u001b[38;5;34m0\u001b[0m][\u001b[38;5;34m0\u001b[0m]       │\n",
       "│ (\u001b[38;5;33mLayerNormalizatio…\u001b[0m │ \u001b[38;5;34m50\u001b[0m, \u001b[38;5;34m64\u001b[0m)           │            │                   │\n",
       "├─────────────────────┼───────────────────┼────────────┼───────────────────┤\n",
       "│ conv_lstm2d_18      │ (\u001b[38;5;45mNone\u001b[0m, \u001b[38;5;34m12\u001b[0m, \u001b[38;5;34m50\u001b[0m,    │    \u001b[38;5;34m295,168\u001b[0m │ layer_normalizat… │\n",
       "│ (\u001b[38;5;33mConvLSTM2D\u001b[0m)        │ \u001b[38;5;34m50\u001b[0m, \u001b[38;5;34m64\u001b[0m)           │            │                   │\n",
       "├─────────────────────┼───────────────────┼────────────┼───────────────────┤\n",
       "│ add_7 (\u001b[38;5;33mAdd\u001b[0m)         │ (\u001b[38;5;45mNone\u001b[0m, \u001b[38;5;34m12\u001b[0m, \u001b[38;5;34m50\u001b[0m,    │          \u001b[38;5;34m0\u001b[0m │ add_6[\u001b[38;5;34m0\u001b[0m][\u001b[38;5;34m0\u001b[0m],      │\n",
       "│                     │ \u001b[38;5;34m50\u001b[0m, \u001b[38;5;34m64\u001b[0m)           │            │ conv_lstm2d_18[\u001b[38;5;34m0\u001b[0m… │\n",
       "├─────────────────────┼───────────────────┼────────────┼───────────────────┤\n",
       "│ spatio_temporal_at… │ (\u001b[38;5;45mNone\u001b[0m, \u001b[38;5;34m12\u001b[0m, \u001b[38;5;34m50\u001b[0m,    │          \u001b[38;5;34m2\u001b[0m │ add_7[\u001b[38;5;34m0\u001b[0m][\u001b[38;5;34m0\u001b[0m]       │\n",
       "│ (\u001b[38;5;33mSpatioTemporalAtt…\u001b[0m │ \u001b[38;5;34m50\u001b[0m, \u001b[38;5;34m64\u001b[0m)           │            │                   │\n",
       "├─────────────────────┼───────────────────┼────────────┼───────────────────┤\n",
       "│ conv_lstm2d_19      │ (\u001b[38;5;45mNone\u001b[0m, \u001b[38;5;34m50\u001b[0m, \u001b[38;5;34m50\u001b[0m,    │    \u001b[38;5;34m295,168\u001b[0m │ spatio_temporal_… │\n",
       "│ (\u001b[38;5;33mConvLSTM2D\u001b[0m)        │ \u001b[38;5;34m64\u001b[0m)               │            │                   │\n",
       "├─────────────────────┼───────────────────┼────────────┼───────────────────┤\n",
       "│ dense_4 (\u001b[38;5;33mDense\u001b[0m)     │ (\u001b[38;5;45mNone\u001b[0m, \u001b[38;5;34m50\u001b[0m, \u001b[38;5;34m50\u001b[0m, \u001b[38;5;34m1\u001b[0m) │         \u001b[38;5;34m65\u001b[0m │ conv_lstm2d_19[\u001b[38;5;34m0\u001b[0m… │\n",
       "└─────────────────────┴───────────────────┴────────────┴───────────────────┘\n"
      ]
     },
     "metadata": {},
     "output_type": "display_data"
    },
    {
     "data": {
      "text/html": [
       "<pre style=\"white-space:pre;overflow-x:auto;line-height:normal;font-family:Menlo,'DejaVu Sans Mono',consolas,'Courier New',monospace\"><span style=\"font-weight: bold\"> Total params: </span><span style=\"color: #00af00; text-decoration-color: #00af00\">1,045,059</span> (3.99 MB)\n",
       "</pre>\n"
      ],
      "text/plain": [
       "\u001b[1m Total params: \u001b[0m\u001b[38;5;34m1,045,059\u001b[0m (3.99 MB)\n"
      ]
     },
     "metadata": {},
     "output_type": "display_data"
    },
    {
     "data": {
      "text/html": [
       "<pre style=\"white-space:pre;overflow-x:auto;line-height:normal;font-family:Menlo,'DejaVu Sans Mono',consolas,'Courier New',monospace\"><span style=\"font-weight: bold\"> Trainable params: </span><span style=\"color: #00af00; text-decoration-color: #00af00\">1,045,059</span> (3.99 MB)\n",
       "</pre>\n"
      ],
      "text/plain": [
       "\u001b[1m Trainable params: \u001b[0m\u001b[38;5;34m1,045,059\u001b[0m (3.99 MB)\n"
      ]
     },
     "metadata": {},
     "output_type": "display_data"
    },
    {
     "data": {
      "text/html": [
       "<pre style=\"white-space:pre;overflow-x:auto;line-height:normal;font-family:Menlo,'DejaVu Sans Mono',consolas,'Courier New',monospace\"><span style=\"font-weight: bold\"> Non-trainable params: </span><span style=\"color: #00af00; text-decoration-color: #00af00\">0</span> (0.00 B)\n",
       "</pre>\n"
      ],
      "text/plain": [
       "\u001b[1m Non-trainable params: \u001b[0m\u001b[38;5;34m0\u001b[0m (0.00 B)\n"
      ]
     },
     "metadata": {},
     "output_type": "display_data"
    },
    {
     "name": "stdout",
     "output_type": "stream",
     "text": [
      "(32, 50, 50, 1)\n"
     ]
    }
   ],
   "source": [
    "import tensorflow as tf\n",
    "from tensorflow.keras import layers, Model\n",
    "import numpy as np\n",
    "from sklearn.neighbors import NearestNeighbors\n",
    "\n",
    "# ======================\n",
    "# 1. Enhanced KSC Components - FIXED VERSION\n",
    "# ======================\n",
    "\n",
    "class KNNReducer(layers.Layer):\n",
    "    \"\"\"Properly handles batch and time dimensions for spatial filtering\"\"\"\n",
    "    def __init__(self, knn_indices_1d, **kwargs):\n",
    "        super().__init__(**kwargs)\n",
    "        # Store 1D indices directly\n",
    "        self.knn_indices = tf.constant(knn_indices_1d, dtype=tf.int32)  # Shape (h*w, k)\n",
    "        \n",
    "    def call(self, inputs):\n",
    "        # Input shape: (batch, time, h, w, features)\n",
    "        batch, time, h, w, features = tf.unstack(tf.shape(inputs))\n",
    "        \n",
    "        # Reshape to treat batch-time as single dimension\n",
    "        x = tf.reshape(inputs, [batch*time, h, w, features])\n",
    "        \n",
    "        # Gather neighbors for each spatial position\n",
    "        flat_x = tf.reshape(x, [batch*time, h*w, features])\n",
    "        neighbors = tf.gather(flat_x, self.knn_indices, axis=1)  # (batch*time, h*w, k, features)\n",
    "        \n",
    "        # Average across neighbors\n",
    "        reduced = tf.reduce_mean(neighbors, axis=2)\n",
    "        \n",
    "        # Reshape back to original dimensions\n",
    "        return tf.reshape(reduced, [batch, time, h, w, features])\n",
    "\n",
    "class SpatioTemporalAttention(layers.Layer):\n",
    "    def build(self, input_shape):\n",
    "        self.time_attention = layers.Attention(use_scale=True)\n",
    "        self.spatial_attention = layers.Attention(use_scale=True)\n",
    "\n",
    "    def call(self, inputs):\n",
    "        batch, time, h, w, features = tf.unstack(tf.shape(inputs))\n",
    "        x = tf.reshape(inputs, [batch, time, h * w, features])\n",
    "        x = tf.transpose(x, [0, 2, 1, 3])\n",
    "        x_reshaped = tf.reshape(x, [-1, time, features])\n",
    "        t_att = self.time_attention([x_reshaped, x_reshaped])\n",
    "        t_att = tf.reshape(t_att, [batch, h * w, time, features])\n",
    "        t_att = tf.transpose(t_att, [0, 2, 1, 3])\n",
    "        t_att = tf.reshape(t_att, [batch, time, h, w, features])\n",
    "\n",
    "        x = tf.reshape(t_att, [batch, time, h * w, features])\n",
    "        x_reshaped = tf.reshape(x, [-1, h * w, features])\n",
    "        s_att = self.spatial_attention([x_reshaped, x_reshaped])\n",
    "        return tf.reshape(s_att, [batch, time, h, w, features])\n",
    "\n",
    "def residual_block(x):\n",
    "    shortcut = x\n",
    "    x = layers.LayerNormalization()(x)\n",
    "    x = layers.ConvLSTM2D(64, (3,3), padding='same', return_sequences=True)(x)\n",
    "    return layers.Add()([shortcut, x])\n",
    "\n",
    "# ======================\n",
    "# 2. Dimension-Correct Model\n",
    "# ======================\n",
    "\n",
    "def build_ksc_convlstm(knn_indices_1d, grid_h, grid_w, seq_length=12, features=5):\n",
    "    inputs = layers.Input(shape=(seq_length, grid_h, grid_w, features))\n",
    "    \n",
    "    # 1. KNN Spatial Filtering\n",
    "    x = KNNReducer(knn_indices_1d)(inputs)\n",
    "    \n",
    "    # 2. ConvLSTM backbone\n",
    "    x = layers.ConvLSTM2D(\n",
    "        64, (3,3), padding='same', \n",
    "        return_sequences=True, \n",
    "        activation='tanh'\n",
    "    )(x)\n",
    "    \n",
    "    # 3. Residual blocks with attention\n",
    "    for _ in range(2):\n",
    "        x = residual_block(x)\n",
    "    x = SpatioTemporalAttention()(x)\n",
    "    \n",
    "    # 4. Final prediction\n",
    "    x = layers.ConvLSTM2D(64, (3,3), padding='same', return_sequences=False)(x)\n",
    "    outputs = layers.Dense(1, activation='relu')(x)\n",
    "    \n",
    "    return Model(inputs, outputs)\n",
    "\n",
    "# ======================\n",
    "# 3. Usage with Air Quality Data\n",
    "# ======================\n",
    "\n",
    "def create_knn_indices(grid_h, grid_w, k=5):\n",
    "    \"\"\"Generates 1D spatial indices for KNN filtering\"\"\"\n",
    "    x = np.arange(grid_h)\n",
    "    y = np.arange(grid_w)\n",
    "    xx, yy = np.meshgrid(x, y, indexing='ij')\n",
    "    coords = np.column_stack([xx.ravel(), yy.ravel()])\n",
    "    \n",
    "    nbrs = NearestNeighbors(n_neighbors=k+1).fit(coords)\n",
    "    _, indices = nbrs.kneighbors(coords)\n",
    "    return indices[:, 1:]  # Exclude self (first neighbor)\n",
    "\n",
    "# Configuration\n",
    "GRID_H, GRID_W = 50, 50\n",
    "SEQ_LENGTH = 12\n",
    "FEATURES = 5\n",
    "K = 5\n",
    "\n",
    "# 1. Generate KNN indices\n",
    "knn_1d = create_knn_indices(GRID_H, GRID_W, k=K)\n",
    "\n",
    "# 2. Initialize model\n",
    "model = build_ksc_convlstm(\n",
    "    knn_indices_1d=knn_1d,\n",
    "    grid_h=GRID_H,\n",
    "    grid_w=GRID_W,\n",
    "    seq_length=SEQ_LENGTH,\n",
    "    features=FEATURES\n",
    ")\n",
    "\n",
    "# 3. Compile model\n",
    "model.compile(\n",
    "    optimizer=tf.keras.optimizers.Adam(learning_rate=1e-4),\n",
    "    loss=tf.keras.losses.Huber(delta=1.0),\n",
    "    metrics=['mae', 'mse']\n",
    ")\n",
    "\n",
    "model.summary()\n",
    "\n",
    "# Test with dummy data\n",
    "dummy_input = tf.random.normal((32, 12, 50, 50, 5))\n",
    "dummy_output = model(dummy_input)\n",
    "print(dummy_output.shape)  # Should output (32, 50, 50, 1)"
   ]
  },
  {
   "cell_type": "code",
   "execution_count": 43,
   "id": "09531d00",
   "metadata": {},
   "outputs": [
    {
     "name": "stdout",
     "output_type": "stream",
     "text": [
      "(32, 50, 50, 1)\n"
     ]
    }
   ],
   "source": [
    "dummy_input = tf.random.normal((32, 12, 50, 50, 5))\n",
    "dummy_output = model(dummy_input)\n",
    "print(dummy_output.shape)  # Now outputs (32, 50, 50, 1)\n"
   ]
  },
  {
   "cell_type": "code",
   "execution_count": null,
   "id": "b1ccf0ab",
   "metadata": {},
   "outputs": [],
   "source": [
    "# Assuming your grid data is in variable z (shape: (lat, lon)), and you want to use the trained model to predict on this grid.\n",
    "# The model expects input shape: (batch, seq_length, grid_h, grid_w, num_features)\n",
    "# We'll create a dummy sequence for demonstration, using z as the last time step and filling previous steps with zeros.\n",
    "\n",
    "# 1. Prepare grid data for model input\n",
    "# If z is masked, fill masked values with 0 or np.nan as appropriate\n",
    "z_filled = np.ma.filled(z, fill_value=0)\n",
    "\n",
    "# 2. Create a sequence (e.g., repeat z for seq_length steps, or use zeros for previous steps)\n",
    "# Here, we create a batch of 1, seq_length=12, grid_h, grid_w, num_features=5\n",
    "# We'll fill only the last feature (e.g., PM2.5) with z, others with zeros\n",
    "input_grid = np.zeros((1, seq_length, grid_h, grid_w, num_features), dtype=np.float32)\n",
    "input_grid[0, -1, :z_filled.shape[0], :z_filled.shape[1], 0] = z_filled  # Fill PM2.5 at last time step\n",
    "\n",
    "# 3. Predict using the model\n",
    "grid_pred = model.predict(input_grid)\n",
    "print(\"Prediction shape:\", grid_pred.shape)"
   ]
  },
  {
   "cell_type": "code",
   "execution_count": null,
   "id": "15c2310b",
   "metadata": {},
   "outputs": [],
   "source": []
  }
 ],
 "metadata": {
  "kernelspec": {
   "display_name": "Python 3",
   "language": "python",
   "name": "python3"
  },
  "language_info": {
   "codemirror_mode": {
    "name": "ipython",
    "version": 3
   },
   "file_extension": ".py",
   "mimetype": "text/x-python",
   "name": "python",
   "nbconvert_exporter": "python",
   "pygments_lexer": "ipython3",
   "version": "3.8.5"
  }
 },
 "nbformat": 4,
 "nbformat_minor": 5
}
